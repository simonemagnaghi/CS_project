{
 "cells": [
  {
   "cell_type": "code",
   "execution_count": 1,
   "metadata": {},
   "outputs": [],
   "source": [
    "import pandas as pd\n",
    "import re\n",
    "import datetime as dt\n",
    "import numpy as np"
   ]
  },
  {
   "cell_type": "markdown",
   "metadata": {},
   "source": [
    "Esercizio 1.\n",
    "\n",
    "Normalize the loan_lenders table. In the normalized table, each row must have one loan_id and one lender."
   ]
  },
  {
   "cell_type": "code",
   "execution_count": 2,
   "metadata": {},
   "outputs": [],
   "source": [
    "ll=pd.read_csv('C:\\\\Users\\\\symo9\\\\Desktop\\\\FoCS\\\\progetto\\\\loans_lenders.csv')"
   ]
  },
  {
   "cell_type": "code",
   "execution_count": 6,
   "metadata": {},
   "outputs": [],
   "source": [
    "def dividi(stringa):\n",
    "    return re.split(',',stringa)\n",
    "ll['lista']=ll.apply(lambda row: dividi(row['lenders']), axis=1)"
   ]
  },
  {
   "cell_type": "code",
   "execution_count": 7,
   "metadata": {},
   "outputs": [],
   "source": [
    "lenders=[nome for lista in ll['lista'] for nome in lista]\n"
   ]
  },
  {
   "cell_type": "code",
   "execution_count": 8,
   "metadata": {},
   "outputs": [],
   "source": [
    "ll['lunghezza']=[len(x) for x in ll['lista']]"
   ]
  },
  {
   "cell_type": "code",
   "execution_count": 9,
   "metadata": {},
   "outputs": [],
   "source": [
    "listone=[]\n",
    "i=0\n",
    "for i in range(0,len(ll)):\n",
    "    listone.append([ll['loan_id'][i]]*ll['lunghezza'][i])"
   ]
  },
  {
   "cell_type": "code",
   "execution_count": 10,
   "metadata": {},
   "outputs": [],
   "source": [
    "loan_id=[y for x in listone for y in x]"
   ]
  },
  {
   "cell_type": "code",
   "execution_count": 11,
   "metadata": {},
   "outputs": [],
   "source": [
    "lo_le=pd.DataFrame({'loan_id':loan_id, 'lenders':lenders})"
   ]
  },
  {
   "cell_type": "code",
   "execution_count": 16,
   "metadata": {
    "scrolled": false
   },
   "outputs": [
    {
     "data": {
      "text/html": [
       "<div>\n",
       "<style scoped>\n",
       "    .dataframe tbody tr th:only-of-type {\n",
       "        vertical-align: middle;\n",
       "    }\n",
       "\n",
       "    .dataframe tbody tr th {\n",
       "        vertical-align: top;\n",
       "    }\n",
       "\n",
       "    .dataframe thead th {\n",
       "        text-align: right;\n",
       "    }\n",
       "</style>\n",
       "<table border=\"1\" class=\"dataframe\">\n",
       "  <thead>\n",
       "    <tr style=\"text-align: right;\">\n",
       "      <th></th>\n",
       "      <th>loan_id</th>\n",
       "      <th>lenders</th>\n",
       "    </tr>\n",
       "  </thead>\n",
       "  <tbody>\n",
       "    <tr>\n",
       "      <th>0</th>\n",
       "      <td>483693</td>\n",
       "      <td>muc888</td>\n",
       "    </tr>\n",
       "    <tr>\n",
       "      <th>1</th>\n",
       "      <td>483693</td>\n",
       "      <td>sam4326</td>\n",
       "    </tr>\n",
       "    <tr>\n",
       "      <th>2</th>\n",
       "      <td>483693</td>\n",
       "      <td>camaran3922</td>\n",
       "    </tr>\n",
       "    <tr>\n",
       "      <th>3</th>\n",
       "      <td>483693</td>\n",
       "      <td>lachheb1865</td>\n",
       "    </tr>\n",
       "    <tr>\n",
       "      <th>4</th>\n",
       "      <td>483693</td>\n",
       "      <td>rebecca3499</td>\n",
       "    </tr>\n",
       "    <tr>\n",
       "      <th>5</th>\n",
       "      <td>483693</td>\n",
       "      <td>karlheinz4543</td>\n",
       "    </tr>\n",
       "    <tr>\n",
       "      <th>6</th>\n",
       "      <td>483693</td>\n",
       "      <td>jerrydb</td>\n",
       "    </tr>\n",
       "    <tr>\n",
       "      <th>7</th>\n",
       "      <td>483693</td>\n",
       "      <td>paula8951</td>\n",
       "    </tr>\n",
       "    <tr>\n",
       "      <th>8</th>\n",
       "      <td>483693</td>\n",
       "      <td>gmct</td>\n",
       "    </tr>\n",
       "    <tr>\n",
       "      <th>9</th>\n",
       "      <td>483693</td>\n",
       "      <td>amra9383</td>\n",
       "    </tr>\n",
       "  </tbody>\n",
       "</table>\n",
       "</div>"
      ],
      "text/plain": [
       "   loan_id         lenders\n",
       "0   483693          muc888\n",
       "1   483693         sam4326\n",
       "2   483693     camaran3922\n",
       "3   483693     lachheb1865\n",
       "4   483693     rebecca3499\n",
       "5   483693   karlheinz4543\n",
       "6   483693         jerrydb\n",
       "7   483693       paula8951\n",
       "8   483693            gmct\n",
       "9   483693        amra9383"
      ]
     },
     "execution_count": 16,
     "metadata": {},
     "output_type": "execute_result"
    }
   ],
   "source": [
    "lo_le.head(10)"
   ]
  },
  {
   "cell_type": "code",
   "execution_count": 14,
   "metadata": {},
   "outputs": [
    {
     "data": {
      "text/html": [
       "<div>\n",
       "<style scoped>\n",
       "    .dataframe tbody tr th:only-of-type {\n",
       "        vertical-align: middle;\n",
       "    }\n",
       "\n",
       "    .dataframe tbody tr th {\n",
       "        vertical-align: top;\n",
       "    }\n",
       "\n",
       "    .dataframe thead th {\n",
       "        text-align: right;\n",
       "    }\n",
       "</style>\n",
       "<table border=\"1\" class=\"dataframe\">\n",
       "  <thead>\n",
       "    <tr style=\"text-align: right;\">\n",
       "      <th></th>\n",
       "      <th>loan_id</th>\n",
       "      <th>lenders</th>\n",
       "    </tr>\n",
       "  </thead>\n",
       "  <tbody>\n",
       "    <tr>\n",
       "      <th>28293921</th>\n",
       "      <td>1206425</td>\n",
       "      <td>rich6705</td>\n",
       "    </tr>\n",
       "    <tr>\n",
       "      <th>28293922</th>\n",
       "      <td>1206425</td>\n",
       "      <td>sergiiy9766</td>\n",
       "    </tr>\n",
       "    <tr>\n",
       "      <th>28293923</th>\n",
       "      <td>1206425</td>\n",
       "      <td>angela7509</td>\n",
       "    </tr>\n",
       "    <tr>\n",
       "      <th>28293924</th>\n",
       "      <td>1206425</td>\n",
       "      <td>barbara5610</td>\n",
       "    </tr>\n",
       "    <tr>\n",
       "      <th>28293925</th>\n",
       "      <td>1206425</td>\n",
       "      <td>david9667</td>\n",
       "    </tr>\n",
       "    <tr>\n",
       "      <th>28293926</th>\n",
       "      <td>1206425</td>\n",
       "      <td>trogdorfamily7622</td>\n",
       "    </tr>\n",
       "    <tr>\n",
       "      <th>28293927</th>\n",
       "      <td>1206425</td>\n",
       "      <td>danny6470</td>\n",
       "    </tr>\n",
       "    <tr>\n",
       "      <th>28293928</th>\n",
       "      <td>1206425</td>\n",
       "      <td>don6118</td>\n",
       "    </tr>\n",
       "    <tr>\n",
       "      <th>28293929</th>\n",
       "      <td>1206486</td>\n",
       "      <td>alan5175</td>\n",
       "    </tr>\n",
       "    <tr>\n",
       "      <th>28293930</th>\n",
       "      <td>1206486</td>\n",
       "      <td>amy38101311</td>\n",
       "    </tr>\n",
       "  </tbody>\n",
       "</table>\n",
       "</div>"
      ],
      "text/plain": [
       "          loan_id             lenders\n",
       "28293921  1206425            rich6705\n",
       "28293922  1206425         sergiiy9766\n",
       "28293923  1206425          angela7509\n",
       "28293924  1206425         barbara5610\n",
       "28293925  1206425           david9667\n",
       "28293926  1206425   trogdorfamily7622\n",
       "28293927  1206425           danny6470\n",
       "28293928  1206425             don6118\n",
       "28293929  1206486            alan5175\n",
       "28293930  1206486         amy38101311"
      ]
     },
     "execution_count": 14,
     "metadata": {},
     "output_type": "execute_result"
    }
   ],
   "source": [
    "lo_le.tail(10)"
   ]
  },
  {
   "cell_type": "markdown",
   "metadata": {},
   "source": [
    "Esercizio 2.\n",
    "\n",
    "For each loan, add a column duration corresponding to the number of days between the disburse time and the planned expiration time. If any of those two dates is missing, also the duration must be missing.\n"
   ]
  },
  {
   "cell_type": "code",
   "execution_count": 3,
   "metadata": {},
   "outputs": [],
   "source": [
    "l=pd.read_csv('C:\\\\Users\\\\symo9\\\\Desktop\\\\FoCS\\\\progetto\\\\loans.csv')"
   ]
  },
  {
   "cell_type": "code",
   "execution_count": 18,
   "metadata": {
    "scrolled": true
   },
   "outputs": [
    {
     "data": {
      "text/html": [
       "<div>\n",
       "<style scoped>\n",
       "    .dataframe tbody tr th:only-of-type {\n",
       "        vertical-align: middle;\n",
       "    }\n",
       "\n",
       "    .dataframe tbody tr th {\n",
       "        vertical-align: top;\n",
       "    }\n",
       "\n",
       "    .dataframe thead th {\n",
       "        text-align: right;\n",
       "    }\n",
       "</style>\n",
       "<table border=\"1\" class=\"dataframe\">\n",
       "  <thead>\n",
       "    <tr style=\"text-align: right;\">\n",
       "      <th></th>\n",
       "      <th>loan_id</th>\n",
       "      <th>duration</th>\n",
       "    </tr>\n",
       "  </thead>\n",
       "  <tbody>\n",
       "    <tr>\n",
       "      <th>0</th>\n",
       "      <td>657307</td>\n",
       "      <td>53 days 19:30:06</td>\n",
       "    </tr>\n",
       "    <tr>\n",
       "      <th>1</th>\n",
       "      <td>657259</td>\n",
       "      <td>96 days 14:25:07</td>\n",
       "    </tr>\n",
       "    <tr>\n",
       "      <th>2</th>\n",
       "      <td>658010</td>\n",
       "      <td>37 days 13:10:05</td>\n",
       "    </tr>\n",
       "    <tr>\n",
       "      <th>3</th>\n",
       "      <td>659347</td>\n",
       "      <td>34 days 19:10:02</td>\n",
       "    </tr>\n",
       "    <tr>\n",
       "      <th>4</th>\n",
       "      <td>656933</td>\n",
       "      <td>57 days 22:10:02</td>\n",
       "    </tr>\n",
       "    <tr>\n",
       "      <th>5</th>\n",
       "      <td>659605</td>\n",
       "      <td>35 days 18:30:07</td>\n",
       "    </tr>\n",
       "    <tr>\n",
       "      <th>6</th>\n",
       "      <td>660240</td>\n",
       "      <td>31 days 23:50:11</td>\n",
       "    </tr>\n",
       "    <tr>\n",
       "      <th>7</th>\n",
       "      <td>661601</td>\n",
       "      <td>46 days 01:50:03</td>\n",
       "    </tr>\n",
       "    <tr>\n",
       "      <th>8</th>\n",
       "      <td>661960</td>\n",
       "      <td>33 days 16:10:03</td>\n",
       "    </tr>\n",
       "    <tr>\n",
       "      <th>9</th>\n",
       "      <td>662117</td>\n",
       "      <td>68 days 05:40:02</td>\n",
       "    </tr>\n",
       "  </tbody>\n",
       "</table>\n",
       "</div>"
      ],
      "text/plain": [
       "   loan_id         duration\n",
       "0   657307 53 days 19:30:06\n",
       "1   657259 96 days 14:25:07\n",
       "2   658010 37 days 13:10:05\n",
       "3   659347 34 days 19:10:02\n",
       "4   656933 57 days 22:10:02\n",
       "5   659605 35 days 18:30:07\n",
       "6   660240 31 days 23:50:11\n",
       "7   661601 46 days 01:50:03\n",
       "8   661960 33 days 16:10:03\n",
       "9   662117 68 days 05:40:02"
      ]
     },
     "execution_count": 18,
     "metadata": {},
     "output_type": "execute_result"
    }
   ],
   "source": [
    "l['planned_expiration_time']=pd.to_datetime(l['planned_expiration_time'])\n",
    "l['disburse_time']=pd.to_datetime(l['disburse_time'])\n",
    "l['duration']=abs(l['planned_expiration_time']-l['disburse_time'])\n",
    "l[['loan_id','duration']].head(10)\n"
   ]
  },
  {
   "cell_type": "code",
   "execution_count": 19,
   "metadata": {},
   "outputs": [
    {
     "data": {
      "text/html": [
       "<div>\n",
       "<style scoped>\n",
       "    .dataframe tbody tr th:only-of-type {\n",
       "        vertical-align: middle;\n",
       "    }\n",
       "\n",
       "    .dataframe tbody tr th {\n",
       "        vertical-align: top;\n",
       "    }\n",
       "\n",
       "    .dataframe thead th {\n",
       "        text-align: right;\n",
       "    }\n",
       "</style>\n",
       "<table border=\"1\" class=\"dataframe\">\n",
       "  <thead>\n",
       "    <tr style=\"text-align: right;\">\n",
       "      <th></th>\n",
       "      <th>loan_id</th>\n",
       "      <th>duration</th>\n",
       "    </tr>\n",
       "  </thead>\n",
       "  <tbody>\n",
       "    <tr>\n",
       "      <th>1419597</th>\n",
       "      <td>984735</td>\n",
       "      <td>63 days 06:20:02</td>\n",
       "    </tr>\n",
       "    <tr>\n",
       "      <th>1419598</th>\n",
       "      <td>985764</td>\n",
       "      <td>46 days 02:40:05</td>\n",
       "    </tr>\n",
       "    <tr>\n",
       "      <th>1419599</th>\n",
       "      <td>986756</td>\n",
       "      <td>44 days 12:20:04</td>\n",
       "    </tr>\n",
       "    <tr>\n",
       "      <th>1419600</th>\n",
       "      <td>986789</td>\n",
       "      <td>40 days 11:50:04</td>\n",
       "    </tr>\n",
       "    <tr>\n",
       "      <th>1419601</th>\n",
       "      <td>987606</td>\n",
       "      <td>42 days 08:30:11</td>\n",
       "    </tr>\n",
       "    <tr>\n",
       "      <th>1419602</th>\n",
       "      <td>988180</td>\n",
       "      <td>39 days 17:00:03</td>\n",
       "    </tr>\n",
       "    <tr>\n",
       "      <th>1419603</th>\n",
       "      <td>988213</td>\n",
       "      <td>39 days 08:40:07</td>\n",
       "    </tr>\n",
       "    <tr>\n",
       "      <th>1419604</th>\n",
       "      <td>989109</td>\n",
       "      <td>51 days 14:20:04</td>\n",
       "    </tr>\n",
       "    <tr>\n",
       "      <th>1419605</th>\n",
       "      <td>989143</td>\n",
       "      <td>63 days 00:50:02</td>\n",
       "    </tr>\n",
       "    <tr>\n",
       "      <th>1419606</th>\n",
       "      <td>989240</td>\n",
       "      <td>61 days 12:50:06</td>\n",
       "    </tr>\n",
       "  </tbody>\n",
       "</table>\n",
       "</div>"
      ],
      "text/plain": [
       "         loan_id         duration\n",
       "1419597   984735 63 days 06:20:02\n",
       "1419598   985764 46 days 02:40:05\n",
       "1419599   986756 44 days 12:20:04\n",
       "1419600   986789 40 days 11:50:04\n",
       "1419601   987606 42 days 08:30:11\n",
       "1419602   988180 39 days 17:00:03\n",
       "1419603   988213 39 days 08:40:07\n",
       "1419604   989109 51 days 14:20:04\n",
       "1419605   989143 63 days 00:50:02\n",
       "1419606   989240 61 days 12:50:06"
      ]
     },
     "execution_count": 19,
     "metadata": {},
     "output_type": "execute_result"
    }
   ],
   "source": [
    "l[['loan_id','duration']].tail(10)"
   ]
  },
  {
   "cell_type": "markdown",
   "metadata": {},
   "source": [
    "Esercizio 3. \n",
    "\n",
    "Find the lenders that have funded at least twice.\n"
   ]
  },
  {
   "cell_type": "code",
   "execution_count": 22,
   "metadata": {},
   "outputs": [
    {
     "data": {
      "text/html": [
       "<div>\n",
       "<style scoped>\n",
       "    .dataframe tbody tr th:only-of-type {\n",
       "        vertical-align: middle;\n",
       "    }\n",
       "\n",
       "    .dataframe tbody tr th {\n",
       "        vertical-align: top;\n",
       "    }\n",
       "\n",
       "    .dataframe thead th {\n",
       "        text-align: right;\n",
       "    }\n",
       "</style>\n",
       "<table border=\"1\" class=\"dataframe\">\n",
       "  <thead>\n",
       "    <tr style=\"text-align: right;\">\n",
       "      <th></th>\n",
       "      <th>lenders</th>\n",
       "    </tr>\n",
       "  </thead>\n",
       "  <tbody>\n",
       "    <tr>\n",
       "      <th>0</th>\n",
       "      <td>000</td>\n",
       "    </tr>\n",
       "    <tr>\n",
       "      <th>1</th>\n",
       "      <td>00000</td>\n",
       "    </tr>\n",
       "    <tr>\n",
       "      <th>2</th>\n",
       "      <td>0002</td>\n",
       "    </tr>\n",
       "    <tr>\n",
       "      <th>3</th>\n",
       "      <td>0101craign0101</td>\n",
       "    </tr>\n",
       "    <tr>\n",
       "      <th>4</th>\n",
       "      <td>0132575</td>\n",
       "    </tr>\n",
       "    <tr>\n",
       "      <th>5</th>\n",
       "      <td>0154884</td>\n",
       "    </tr>\n",
       "    <tr>\n",
       "      <th>6</th>\n",
       "      <td>0161130</td>\n",
       "    </tr>\n",
       "    <tr>\n",
       "      <th>7</th>\n",
       "      <td>0169713</td>\n",
       "    </tr>\n",
       "    <tr>\n",
       "      <th>8</th>\n",
       "      <td>0185429</td>\n",
       "    </tr>\n",
       "    <tr>\n",
       "      <th>9</th>\n",
       "      <td>0206338</td>\n",
       "    </tr>\n",
       "  </tbody>\n",
       "</table>\n",
       "</div>"
      ],
      "text/plain": [
       "           lenders\n",
       "0              000\n",
       "1            00000\n",
       "2             0002\n",
       "3   0101craign0101\n",
       "4          0132575\n",
       "5          0154884\n",
       "6          0161130\n",
       "7          0169713\n",
       "8          0185429\n",
       "9          0206338"
      ]
     },
     "execution_count": 22,
     "metadata": {},
     "output_type": "execute_result"
    }
   ],
   "source": [
    "lenders_twice=lo_le.groupby('lenders').count()\n",
    "lenders_twice2=lenders_twice[lenders_twice['loan_id']>1]\n",
    "lenders_twice2=lenders_twice2.reset_index()\n",
    "lenders_twice2[['lenders']].head(10)"
   ]
  },
  {
   "cell_type": "code",
   "execution_count": 21,
   "metadata": {},
   "outputs": [
    {
     "data": {
      "text/html": [
       "<div>\n",
       "<style scoped>\n",
       "    .dataframe tbody tr th:only-of-type {\n",
       "        vertical-align: middle;\n",
       "    }\n",
       "\n",
       "    .dataframe tbody tr th {\n",
       "        vertical-align: top;\n",
       "    }\n",
       "\n",
       "    .dataframe thead th {\n",
       "        text-align: right;\n",
       "    }\n",
       "</style>\n",
       "<table border=\"1\" class=\"dataframe\">\n",
       "  <thead>\n",
       "    <tr style=\"text-align: right;\">\n",
       "      <th></th>\n",
       "      <th>lenders</th>\n",
       "    </tr>\n",
       "  </thead>\n",
       "  <tbody>\n",
       "    <tr>\n",
       "      <th>1005101</th>\n",
       "      <td>zuzanna7983</td>\n",
       "    </tr>\n",
       "    <tr>\n",
       "      <th>1005102</th>\n",
       "      <td>zuzanna9818</td>\n",
       "    </tr>\n",
       "    <tr>\n",
       "      <th>1005103</th>\n",
       "      <td>zvi</td>\n",
       "    </tr>\n",
       "    <tr>\n",
       "      <th>1005104</th>\n",
       "      <td>zx147</td>\n",
       "    </tr>\n",
       "    <tr>\n",
       "      <th>1005105</th>\n",
       "      <td>zyrah8525</td>\n",
       "    </tr>\n",
       "    <tr>\n",
       "      <th>1005106</th>\n",
       "      <td>zyrorl</td>\n",
       "    </tr>\n",
       "    <tr>\n",
       "      <th>1005107</th>\n",
       "      <td>zzaman</td>\n",
       "    </tr>\n",
       "    <tr>\n",
       "      <th>1005108</th>\n",
       "      <td>zzanita</td>\n",
       "    </tr>\n",
       "    <tr>\n",
       "      <th>1005109</th>\n",
       "      <td>zzmcfate</td>\n",
       "    </tr>\n",
       "    <tr>\n",
       "      <th>1005110</th>\n",
       "      <td>zzrvmf8538</td>\n",
       "    </tr>\n",
       "  </tbody>\n",
       "</table>\n",
       "</div>"
      ],
      "text/plain": [
       "             lenders\n",
       "1005101  zuzanna7983\n",
       "1005102  zuzanna9818\n",
       "1005103          zvi\n",
       "1005104        zx147\n",
       "1005105    zyrah8525\n",
       "1005106       zyrorl\n",
       "1005107       zzaman\n",
       "1005108      zzanita\n",
       "1005109     zzmcfate\n",
       "1005110   zzrvmf8538"
      ]
     },
     "execution_count": 21,
     "metadata": {},
     "output_type": "execute_result"
    }
   ],
   "source": [
    "lenders_twice2[['lenders']].tail(10)"
   ]
  },
  {
   "cell_type": "markdown",
   "metadata": {},
   "source": [
    "Esercizio 4.\n",
    "\n",
    "For each country, compute how many loans have involved that country as borrowers.\n"
   ]
  },
  {
   "cell_type": "code",
   "execution_count": 24,
   "metadata": {},
   "outputs": [
    {
     "data": {
      "text/plain": [
       "country_name\n",
       "Afghanistan                               2337\n",
       "Albania                                   3075\n",
       "Armenia                                  13952\n",
       "Azerbaijan                               10172\n",
       "Belize                                     218\n",
       "Benin                                     5946\n",
       "Bhutan                                       2\n",
       "Bolivia                                  25250\n",
       "Bosnia and Herzegovina                     608\n",
       "Botswana                                     1\n",
       "Brazil                                     482\n",
       "Bulgaria                                   296\n",
       "Burkina Faso                              3489\n",
       "Burundi                                   1727\n",
       "Cambodia                                 79701\n",
       "Cameroon                                  5085\n",
       "Canada                                       1\n",
       "Chad                                        61\n",
       "Chile                                      892\n",
       "China                                      134\n",
       "Colombia                                 33675\n",
       "Congo                                      952\n",
       "Costa Rica                                4681\n",
       "Cote D'Ivoire                              283\n",
       "Dominican Republic                        4654\n",
       "Ecuador                                  33471\n",
       "Egypt                                     2460\n",
       "El Salvador                              64037\n",
       "Gaza                                         8\n",
       "Georgia                                   6483\n",
       "                                         ...  \n",
       "Philippines                             285336\n",
       "Puerto Rico                                 80\n",
       "Rwanda                                   16774\n",
       "Saint Vincent and the Grenadines            16\n",
       "Samoa                                    16435\n",
       "Senegal                                  12107\n",
       "Sierra Leone                             15576\n",
       "Solomon Islands                            903\n",
       "Somalia                                    227\n",
       "South Africa                               633\n",
       "South Sudan                               5820\n",
       "Sri Lanka                                  264\n",
       "Suriname                                   292\n",
       "Tajikistan                               43942\n",
       "Tanzania                                 16110\n",
       "Thailand                                   247\n",
       "The Democratic Republic of the Congo      5074\n",
       "Timor-Leste                               3816\n",
       "Togo                                     17106\n",
       "Turkey                                    2008\n",
       "Uganda                                   45882\n",
       "Ukraine                                   4994\n",
       "United States                             9180\n",
       "Uruguay                                      1\n",
       "Vanuatu                                      4\n",
       "Vietnam                                  21839\n",
       "Virgin Islands                               2\n",
       "Yemen                                     4206\n",
       "Zambia                                    1277\n",
       "Zimbabwe                                  5513\n",
       "Length: 96, dtype: int64"
      ]
     },
     "execution_count": 24,
     "metadata": {},
     "output_type": "execute_result"
    }
   ],
   "source": [
    "paesi=l.groupby('country_name').size()\n",
    "paesi"
   ]
  },
  {
   "cell_type": "markdown",
   "metadata": {},
   "source": [
    "Esercizio 5.\n",
    "\n",
    "For each country, compute the overall amount of money borrowed.\n"
   ]
  },
  {
   "cell_type": "code",
   "execution_count": 26,
   "metadata": {},
   "outputs": [
    {
     "data": {
      "text/plain": [
       "country_name\n",
       "Afghanistan                              1967950.0\n",
       "Albania                                  4307350.0\n",
       "Armenia                                 22950475.0\n",
       "Azerbaijan                              14784625.0\n",
       "Belize                                    150175.0\n",
       "Benin                                    3865825.0\n",
       "Bhutan                                     20000.0\n",
       "Bolivia                                 44226725.0\n",
       "Bosnia and Herzegovina                    477250.0\n",
       "Botswana                                    8000.0\n",
       "Brazil                                   1192325.0\n",
       "Bulgaria                                  375300.0\n",
       "Burkina Faso                             4085200.0\n",
       "Burundi                                  5233450.0\n",
       "Cambodia                                51613525.0\n",
       "Cameroon                                 2250800.0\n",
       "Canada                                     50000.0\n",
       "Chad                                       20075.0\n",
       "Chile                                    2595925.0\n",
       "China                                     380525.0\n",
       "Colombia                                23613975.0\n",
       "Congo                                    2265350.0\n",
       "Costa Rica                               5644350.0\n",
       "Cote D'Ivoire                             345300.0\n",
       "Dominican Republic                       9308000.0\n",
       "Ecuador                                 35519000.0\n",
       "Egypt                                    1415025.0\n",
       "El Salvador                             41691550.0\n",
       "Gaza                                        5000.0\n",
       "Georgia                                  9570425.0\n",
       "                                           ...    \n",
       "Philippines                             97984600.0\n",
       "Puerto Rico                               441900.0\n",
       "Rwanda                                  29157325.0\n",
       "Saint Vincent and the Grenadines           49225.0\n",
       "Samoa                                   12212175.0\n",
       "Senegal                                 17952175.0\n",
       "Sierra Leone                            11967500.0\n",
       "Solomon Islands                           815575.0\n",
       "Somalia                                   308725.0\n",
       "South Africa                             1006525.0\n",
       "South Sudan                              2418300.0\n",
       "Sri Lanka                                  74800.0\n",
       "Suriname                                  748925.0\n",
       "Tajikistan                              39622125.0\n",
       "Tanzania                                18720300.0\n",
       "Thailand                                  608925.0\n",
       "The Democratic Republic of the Congo    18813425.0\n",
       "Timor-Leste                              3482400.0\n",
       "Togo                                    10022825.0\n",
       "Turkey                                    903925.0\n",
       "Uganda                                  38386500.0\n",
       "Ukraine                                  7091800.0\n",
       "United States                           46352000.0\n",
       "Uruguay                                     8000.0\n",
       "Vanuatu                                     9250.0\n",
       "Vietnam                                 24681100.0\n",
       "Virgin Islands                             10000.0\n",
       "Yemen                                    3444000.0\n",
       "Zambia                                   1978975.0\n",
       "Zimbabwe                                 5851875.0\n",
       "Name: loan_amount, Length: 96, dtype: float64"
      ]
     },
     "execution_count": 26,
     "metadata": {},
     "output_type": "execute_result"
    }
   ],
   "source": [
    "l.groupby('country_name')['loan_amount'].sum()"
   ]
  },
  {
   "cell_type": "markdown",
   "metadata": {},
   "source": [
    "Esercizio 6.\n",
    "\n",
    "Like the previous point, but expressed as a percentage of the overall amount lent.\n"
   ]
  },
  {
   "cell_type": "code",
   "execution_count": 27,
   "metadata": {},
   "outputs": [],
   "source": [
    "stati=l.groupby('country_name')[['loan_amount']].sum()\n",
    "totale=sum(stati['loan_amount'])\n",
    "stati['loan_percentage']=(stati['loan_amount']/totale)*100\n",
    "stati=stati['loan_percentage']"
   ]
  },
  {
   "cell_type": "code",
   "execution_count": 29,
   "metadata": {},
   "outputs": [
    {
     "data": {
      "text/plain": [
       "country_name\n",
       "Afghanistan                             0.166573\n",
       "Albania                                 0.364586\n",
       "Armenia                                 1.942589\n",
       "Azerbaijan                              1.251410\n",
       "Belize                                  0.012711\n",
       "Benin                                   0.327214\n",
       "Bhutan                                  0.001693\n",
       "Bolivia                                 3.743468\n",
       "Bosnia and Herzegovina                  0.040396\n",
       "Botswana                                0.000677\n",
       "Brazil                                  0.100922\n",
       "Bulgaria                                0.031766\n",
       "Burkina Faso                            0.345782\n",
       "Burundi                                 0.442973\n",
       "Cambodia                                4.368706\n",
       "Cameroon                                0.190514\n",
       "Canada                                  0.004232\n",
       "Chad                                    0.001699\n",
       "Chile                                   0.219726\n",
       "China                                   0.032209\n",
       "Colombia                                1.998750\n",
       "Congo                                   0.191745\n",
       "Costa Rica                              0.477753\n",
       "Cote D'Ivoire                           0.029227\n",
       "Dominican Republic                      0.787854\n",
       "Ecuador                                 3.006423\n",
       "Egypt                                   0.119771\n",
       "El Salvador                             3.528884\n",
       "Gaza                                    0.000423\n",
       "Georgia                                 0.810066\n",
       "                                          ...   \n",
       "Philippines                             8.293678\n",
       "Puerto Rico                             0.037404\n",
       "Rwanda                                  2.467954\n",
       "Saint Vincent and the Grenadines        0.004167\n",
       "Samoa                                   1.033671\n",
       "Senegal                                 1.519520\n",
       "Sierra Leone                            1.012961\n",
       "Solomon Islands                         0.069032\n",
       "Somalia                                 0.026131\n",
       "South Africa                            0.085195\n",
       "South Sudan                             0.204691\n",
       "Sri Lanka                               0.006331\n",
       "Suriname                                0.063391\n",
       "Tajikistan                              3.353722\n",
       "Tanzania                                1.584536\n",
       "Thailand                                0.051541\n",
       "The Democratic Republic of the Congo    1.592418\n",
       "Timor-Leste                             0.294760\n",
       "Togo                                    0.848359\n",
       "Turkey                                  0.076511\n",
       "Uganda                                  3.249136\n",
       "Ukraine                                 0.600269\n",
       "United States                           3.923357\n",
       "Uruguay                                 0.000677\n",
       "Vanuatu                                 0.000783\n",
       "Vietnam                                 2.089074\n",
       "Virgin Islands                          0.000846\n",
       "Yemen                                   0.291509\n",
       "Zambia                                  0.167506\n",
       "Zimbabwe                                0.495318\n",
       "Name: loan_percentage, Length: 96, dtype: float64"
      ]
     },
     "execution_count": 29,
     "metadata": {},
     "output_type": "execute_result"
    }
   ],
   "source": [
    "stati"
   ]
  },
  {
   "cell_type": "markdown",
   "metadata": {},
   "source": [
    "Esercizio 7.\n",
    "\n",
    "Like the three previous points, but split for each year (with respect to disburse time).\n"
   ]
  },
  {
   "cell_type": "code",
   "execution_count": 32,
   "metadata": {},
   "outputs": [],
   "source": [
    "l['year']=pd.to_datetime(l['disburse_time']).dt.year"
   ]
  },
  {
   "cell_type": "code",
   "execution_count": 33,
   "metadata": {},
   "outputs": [],
   "source": [
    "paesi2=l.groupby(['year','country_name']).size()"
   ]
  },
  {
   "cell_type": "code",
   "execution_count": 35,
   "metadata": {},
   "outputs": [],
   "source": [
    "tot=l.groupby('year')[['loan_amount']].sum()"
   ]
  },
  {
   "cell_type": "code",
   "execution_count": 40,
   "metadata": {
    "scrolled": true
   },
   "outputs": [
    {
     "data": {
      "text/html": [
       "<div>\n",
       "<style scoped>\n",
       "    .dataframe tbody tr th:only-of-type {\n",
       "        vertical-align: middle;\n",
       "    }\n",
       "\n",
       "    .dataframe tbody tr th {\n",
       "        vertical-align: top;\n",
       "    }\n",
       "\n",
       "    .dataframe thead th {\n",
       "        text-align: right;\n",
       "    }\n",
       "</style>\n",
       "<table border=\"1\" class=\"dataframe\">\n",
       "  <thead>\n",
       "    <tr style=\"text-align: right;\">\n",
       "      <th></th>\n",
       "      <th>year</th>\n",
       "      <th>country_name</th>\n",
       "      <th>percentage</th>\n",
       "    </tr>\n",
       "  </thead>\n",
       "  <tbody>\n",
       "    <tr>\n",
       "      <th>0</th>\n",
       "      <td>2005.0</td>\n",
       "      <td>Bulgaria</td>\n",
       "      <td>1.798736</td>\n",
       "    </tr>\n",
       "    <tr>\n",
       "      <th>1</th>\n",
       "      <td>2005.0</td>\n",
       "      <td>Cambodia</td>\n",
       "      <td>1.579971</td>\n",
       "    </tr>\n",
       "    <tr>\n",
       "      <th>2</th>\n",
       "      <td>2005.0</td>\n",
       "      <td>Ecuador</td>\n",
       "      <td>4.861449</td>\n",
       "    </tr>\n",
       "    <tr>\n",
       "      <th>3</th>\n",
       "      <td>2005.0</td>\n",
       "      <td>Gaza</td>\n",
       "      <td>4.861449</td>\n",
       "    </tr>\n",
       "    <tr>\n",
       "      <th>4</th>\n",
       "      <td>2005.0</td>\n",
       "      <td>Honduras</td>\n",
       "      <td>32.377248</td>\n",
       "    </tr>\n",
       "    <tr>\n",
       "      <th>5</th>\n",
       "      <td>2005.0</td>\n",
       "      <td>Kenya</td>\n",
       "      <td>20.758386</td>\n",
       "    </tr>\n",
       "    <tr>\n",
       "      <th>6</th>\n",
       "      <td>2005.0</td>\n",
       "      <td>Nicaragua</td>\n",
       "      <td>3.208556</td>\n",
       "    </tr>\n",
       "    <tr>\n",
       "      <th>7</th>\n",
       "      <td>2005.0</td>\n",
       "      <td>Senegal</td>\n",
       "      <td>3.135634</td>\n",
       "    </tr>\n",
       "    <tr>\n",
       "      <th>8</th>\n",
       "      <td>2005.0</td>\n",
       "      <td>Tanzania</td>\n",
       "      <td>2.236266</td>\n",
       "    </tr>\n",
       "    <tr>\n",
       "      <th>9</th>\n",
       "      <td>2005.0</td>\n",
       "      <td>Uganda</td>\n",
       "      <td>25.182304</td>\n",
       "    </tr>\n",
       "  </tbody>\n",
       "</table>\n",
       "</div>"
      ],
      "text/plain": [
       "     year country_name  percentage\n",
       "0  2005.0     Bulgaria    1.798736\n",
       "1  2005.0     Cambodia    1.579971\n",
       "2  2005.0      Ecuador    4.861449\n",
       "3  2005.0         Gaza    4.861449\n",
       "4  2005.0     Honduras   32.377248\n",
       "5  2005.0        Kenya   20.758386\n",
       "6  2005.0    Nicaragua    3.208556\n",
       "7  2005.0      Senegal    3.135634\n",
       "8  2005.0     Tanzania    2.236266\n",
       "9  2005.0       Uganda   25.182304"
      ]
     },
     "execution_count": 40,
     "metadata": {},
     "output_type": "execute_result"
    }
   ],
   "source": [
    "stati2=l.groupby(['year','country_name'])[['loan_amount']].sum()\n",
    "stati2=stati2.reset_index() \n",
    "nuovo=pd.merge(stati2, tot, on='year')\n",
    "nuovo['percentage']=(nuovo['loan_amount_x']/nuovo['loan_amount_y'])*100\n",
    "nuovo=nuovo[['year','country_name','percentage']]\n",
    "nuovo.head(10)"
   ]
  },
  {
   "cell_type": "code",
   "execution_count": 38,
   "metadata": {},
   "outputs": [
    {
     "data": {
      "text/html": [
       "<div>\n",
       "<style scoped>\n",
       "    .dataframe tbody tr th:only-of-type {\n",
       "        vertical-align: middle;\n",
       "    }\n",
       "\n",
       "    .dataframe tbody tr th {\n",
       "        vertical-align: top;\n",
       "    }\n",
       "\n",
       "    .dataframe thead th {\n",
       "        text-align: right;\n",
       "    }\n",
       "</style>\n",
       "<table border=\"1\" class=\"dataframe\">\n",
       "  <thead>\n",
       "    <tr style=\"text-align: right;\">\n",
       "      <th></th>\n",
       "      <th>year</th>\n",
       "      <th>country_name</th>\n",
       "      <th>percentage</th>\n",
       "    </tr>\n",
       "  </thead>\n",
       "  <tbody>\n",
       "    <tr>\n",
       "      <th>738</th>\n",
       "      <td>2018.0</td>\n",
       "      <td>Peru</td>\n",
       "      <td>1.787834</td>\n",
       "    </tr>\n",
       "    <tr>\n",
       "      <th>739</th>\n",
       "      <td>2018.0</td>\n",
       "      <td>Philippines</td>\n",
       "      <td>0.030302</td>\n",
       "    </tr>\n",
       "    <tr>\n",
       "      <th>740</th>\n",
       "      <td>2018.0</td>\n",
       "      <td>Rwanda</td>\n",
       "      <td>2.707002</td>\n",
       "    </tr>\n",
       "    <tr>\n",
       "      <th>741</th>\n",
       "      <td>2018.0</td>\n",
       "      <td>Senegal</td>\n",
       "      <td>0.401505</td>\n",
       "    </tr>\n",
       "    <tr>\n",
       "      <th>742</th>\n",
       "      <td>2018.0</td>\n",
       "      <td>Sierra Leone</td>\n",
       "      <td>3.143860</td>\n",
       "    </tr>\n",
       "    <tr>\n",
       "      <th>743</th>\n",
       "      <td>2018.0</td>\n",
       "      <td>Tanzania</td>\n",
       "      <td>1.444408</td>\n",
       "    </tr>\n",
       "    <tr>\n",
       "      <th>744</th>\n",
       "      <td>2018.0</td>\n",
       "      <td>Thailand</td>\n",
       "      <td>2.676700</td>\n",
       "    </tr>\n",
       "    <tr>\n",
       "      <th>745</th>\n",
       "      <td>2018.0</td>\n",
       "      <td>Uganda</td>\n",
       "      <td>2.196914</td>\n",
       "    </tr>\n",
       "    <tr>\n",
       "      <th>746</th>\n",
       "      <td>2018.0</td>\n",
       "      <td>Uruguay</td>\n",
       "      <td>0.808060</td>\n",
       "    </tr>\n",
       "    <tr>\n",
       "      <th>747</th>\n",
       "      <td>2018.0</td>\n",
       "      <td>Zambia</td>\n",
       "      <td>1.411581</td>\n",
       "    </tr>\n",
       "  </tbody>\n",
       "</table>\n",
       "</div>"
      ],
      "text/plain": [
       "       year  country_name  percentage\n",
       "738  2018.0          Peru    1.787834\n",
       "739  2018.0   Philippines    0.030302\n",
       "740  2018.0        Rwanda    2.707002\n",
       "741  2018.0       Senegal    0.401505\n",
       "742  2018.0  Sierra Leone    3.143860\n",
       "743  2018.0      Tanzania    1.444408\n",
       "744  2018.0      Thailand    2.676700\n",
       "745  2018.0        Uganda    2.196914\n",
       "746  2018.0       Uruguay    0.808060\n",
       "747  2018.0        Zambia    1.411581"
      ]
     },
     "execution_count": 38,
     "metadata": {},
     "output_type": "execute_result"
    }
   ],
   "source": [
    "nuovo.tail(10)"
   ]
  },
  {
   "cell_type": "markdown",
   "metadata": {},
   "source": [
    "Esercizio 8.\n",
    "\n",
    "For each lender, compute the overall amount of money lent. For each loan that has more than one lender, you must assume that all lenders contributed the same amount.\n"
   ]
  },
  {
   "cell_type": "code",
   "execution_count": 42,
   "metadata": {},
   "outputs": [],
   "source": [
    "l['single_fund']=l['funded_amount']/l['num_lenders_total']"
   ]
  },
  {
   "cell_type": "code",
   "execution_count": 43,
   "metadata": {},
   "outputs": [],
   "source": [
    "new=pd.merge(l, ll, on='loan_id')[['loan_id','lenders','single_fund']]"
   ]
  },
  {
   "cell_type": "code",
   "execution_count": 44,
   "metadata": {},
   "outputs": [],
   "source": [
    "new2=pd.merge(new,lo_le,on='loan_id')[['loan_id', 'single_fund', 'lenders_y']]"
   ]
  },
  {
   "cell_type": "code",
   "execution_count": 45,
   "metadata": {},
   "outputs": [],
   "source": [
    "money_lent=new2.groupby('lenders_y')[['single_fund']].sum()"
   ]
  },
  {
   "cell_type": "code",
   "execution_count": 46,
   "metadata": {
    "scrolled": true
   },
   "outputs": [
    {
     "data": {
      "text/html": [
       "<div>\n",
       "<style scoped>\n",
       "    .dataframe tbody tr th:only-of-type {\n",
       "        vertical-align: middle;\n",
       "    }\n",
       "\n",
       "    .dataframe tbody tr th {\n",
       "        vertical-align: top;\n",
       "    }\n",
       "\n",
       "    .dataframe thead th {\n",
       "        text-align: right;\n",
       "    }\n",
       "</style>\n",
       "<table border=\"1\" class=\"dataframe\">\n",
       "  <thead>\n",
       "    <tr style=\"text-align: right;\">\n",
       "      <th></th>\n",
       "      <th>single_fund</th>\n",
       "    </tr>\n",
       "    <tr>\n",
       "      <th>lenders_y</th>\n",
       "      <th></th>\n",
       "    </tr>\n",
       "  </thead>\n",
       "  <tbody>\n",
       "    <tr>\n",
       "      <th>000</th>\n",
       "      <td>1485.309656</td>\n",
       "    </tr>\n",
       "    <tr>\n",
       "      <th>00000</th>\n",
       "      <td>1249.127691</td>\n",
       "    </tr>\n",
       "    <tr>\n",
       "      <th>0002</th>\n",
       "      <td>2201.180463</td>\n",
       "    </tr>\n",
       "    <tr>\n",
       "      <th>00mike00</th>\n",
       "      <td>38.461538</td>\n",
       "    </tr>\n",
       "    <tr>\n",
       "      <th>0101craign0101</th>\n",
       "      <td>2424.088932</td>\n",
       "    </tr>\n",
       "    <tr>\n",
       "      <th>0132575</th>\n",
       "      <td>113.587695</td>\n",
       "    </tr>\n",
       "    <tr>\n",
       "      <th>0154884</th>\n",
       "      <td>122.077677</td>\n",
       "    </tr>\n",
       "    <tr>\n",
       "      <th>0161130</th>\n",
       "      <td>52.739726</td>\n",
       "    </tr>\n",
       "    <tr>\n",
       "      <th>0169713</th>\n",
       "      <td>90.689866</td>\n",
       "    </tr>\n",
       "    <tr>\n",
       "      <th>0185429</th>\n",
       "      <td>52.863777</td>\n",
       "    </tr>\n",
       "  </tbody>\n",
       "</table>\n",
       "</div>"
      ],
      "text/plain": [
       "                 single_fund\n",
       "lenders_y                   \n",
       " 000             1485.309656\n",
       " 00000           1249.127691\n",
       " 0002            2201.180463\n",
       " 00mike00          38.461538\n",
       " 0101craign0101  2424.088932\n",
       " 0132575          113.587695\n",
       " 0154884          122.077677\n",
       " 0161130           52.739726\n",
       " 0169713           90.689866\n",
       " 0185429           52.863777"
      ]
     },
     "execution_count": 46,
     "metadata": {},
     "output_type": "execute_result"
    }
   ],
   "source": [
    "money_lent.head(10)"
   ]
  },
  {
   "cell_type": "code",
   "execution_count": 47,
   "metadata": {},
   "outputs": [
    {
     "data": {
      "text/html": [
       "<div>\n",
       "<style scoped>\n",
       "    .dataframe tbody tr th:only-of-type {\n",
       "        vertical-align: middle;\n",
       "    }\n",
       "\n",
       "    .dataframe tbody tr th {\n",
       "        vertical-align: top;\n",
       "    }\n",
       "\n",
       "    .dataframe thead th {\n",
       "        text-align: right;\n",
       "    }\n",
       "</style>\n",
       "<table border=\"1\" class=\"dataframe\">\n",
       "  <thead>\n",
       "    <tr style=\"text-align: right;\">\n",
       "      <th></th>\n",
       "      <th>single_fund</th>\n",
       "    </tr>\n",
       "    <tr>\n",
       "      <th>lenders_y</th>\n",
       "      <th></th>\n",
       "    </tr>\n",
       "  </thead>\n",
       "  <tbody>\n",
       "    <tr>\n",
       "      <th>zyra9641</th>\n",
       "      <td>26.886792</td>\n",
       "    </tr>\n",
       "    <tr>\n",
       "      <th>zyrah8525</th>\n",
       "      <td>166.696429</td>\n",
       "    </tr>\n",
       "    <tr>\n",
       "      <th>zyrorl</th>\n",
       "      <td>92.599588</td>\n",
       "    </tr>\n",
       "    <tr>\n",
       "      <th>zzaba</th>\n",
       "      <td>25.000000</td>\n",
       "    </tr>\n",
       "    <tr>\n",
       "      <th>zzaman</th>\n",
       "      <td>385.071453</td>\n",
       "    </tr>\n",
       "    <tr>\n",
       "      <th>zzanita</th>\n",
       "      <td>62.500000</td>\n",
       "    </tr>\n",
       "    <tr>\n",
       "      <th>zzcyna7269</th>\n",
       "      <td>44.285714</td>\n",
       "    </tr>\n",
       "    <tr>\n",
       "      <th>zzinnia</th>\n",
       "      <td>32.758621</td>\n",
       "    </tr>\n",
       "    <tr>\n",
       "      <th>zzmcfate</th>\n",
       "      <td>1889.702578</td>\n",
       "    </tr>\n",
       "    <tr>\n",
       "      <th>zzrvmf8538</th>\n",
       "      <td>70.512821</td>\n",
       "    </tr>\n",
       "  </tbody>\n",
       "</table>\n",
       "</div>"
      ],
      "text/plain": [
       "            single_fund\n",
       "lenders_y              \n",
       "zyra9641      26.886792\n",
       "zyrah8525    166.696429\n",
       "zyrorl        92.599588\n",
       "zzaba         25.000000\n",
       "zzaman       385.071453\n",
       "zzanita       62.500000\n",
       "zzcyna7269    44.285714\n",
       "zzinnia       32.758621\n",
       "zzmcfate    1889.702578\n",
       "zzrvmf8538    70.512821"
      ]
     },
     "execution_count": 47,
     "metadata": {},
     "output_type": "execute_result"
    }
   ],
   "source": [
    "money_lent.tail(10)"
   ]
  },
  {
   "cell_type": "markdown",
   "metadata": {},
   "source": [
    "Esercizio 9.\n",
    "\n",
    "For each country, compute the difference between the overall amount of money lent and the overall amount of money borrowed. Since the country of the lender is often unknown, you can assume that the true distribution among the countries is the same as the one computed from the rows where the country is known.\n"
   ]
  },
  {
   "cell_type": "code",
   "execution_count": 4,
   "metadata": {},
   "outputs": [],
   "source": [
    "lend=pd.read_csv('C:\\\\Users\\\\symo9\\\\Desktop\\\\FoCS\\\\progetto\\\\lenders.csv')"
   ]
  },
  {
   "cell_type": "code",
   "execution_count": 48,
   "metadata": {},
   "outputs": [],
   "source": [
    "vuoto=lend[lend['country_code'].isnull()==True]"
   ]
  },
  {
   "cell_type": "code",
   "execution_count": 49,
   "metadata": {},
   "outputs": [],
   "source": [
    "pieno=lend[lend['country_code'].isnull()==False]"
   ]
  },
  {
   "cell_type": "code",
   "execution_count": 50,
   "metadata": {},
   "outputs": [],
   "source": [
    "conteggio=pieno.groupby(['country_code']).size()"
   ]
  },
  {
   "cell_type": "code",
   "execution_count": 51,
   "metadata": {},
   "outputs": [],
   "source": [
    "conteggio=conteggio.reset_index()"
   ]
  },
  {
   "cell_type": "code",
   "execution_count": 52,
   "metadata": {},
   "outputs": [],
   "source": [
    "stati=[x for x in conteggio['country_code']]"
   ]
  },
  {
   "cell_type": "code",
   "execution_count": 53,
   "metadata": {},
   "outputs": [],
   "source": [
    "volte=[x for x in conteggio[0]]"
   ]
  },
  {
   "cell_type": "code",
   "execution_count": 54,
   "metadata": {},
   "outputs": [],
   "source": [
    "listone2=[]\n",
    "for i in range(0,len(stati)):\n",
    "    listone2.append([stati[i]]*volte[i])"
   ]
  },
  {
   "cell_type": "code",
   "execution_count": 55,
   "metadata": {},
   "outputs": [],
   "source": [
    "end=[y for x in listone2 for y in x]"
   ]
  },
  {
   "cell_type": "code",
   "execution_count": 108,
   "metadata": {
    "scrolled": true
   },
   "outputs": [],
   "source": [
    "import random\n",
    "vect=[]\n",
    "for i in range(0,len(vuoto)):\n",
    "    vect.append(random.sample(end,1)[0])"
   ]
  },
  {
   "cell_type": "code",
   "execution_count": 109,
   "metadata": {},
   "outputs": [
    {
     "name": "stderr",
     "output_type": "stream",
     "text": [
      "C:\\ProgramData\\Anaconda3\\lib\\site-packages\\ipykernel_launcher.py:1: SettingWithCopyWarning: \n",
      "A value is trying to be set on a copy of a slice from a DataFrame.\n",
      "Try using .loc[row_indexer,col_indexer] = value instead\n",
      "\n",
      "See the caveats in the documentation: http://pandas.pydata.org/pandas-docs/stable/indexing.html#indexing-view-versus-copy\n",
      "  \"\"\"Entry point for launching an IPython kernel.\n"
     ]
    }
   ],
   "source": [
    "vuoto['country_code']=vect"
   ]
  },
  {
   "cell_type": "code",
   "execution_count": 110,
   "metadata": {},
   "outputs": [],
   "source": [
    "new_lenders=pieno.append(vuoto)"
   ]
  },
  {
   "cell_type": "code",
   "execution_count": 111,
   "metadata": {},
   "outputs": [],
   "source": [
    "new_lenders.rename(columns={'permanent_name': 'lenders_y'}, inplace=True)\n"
   ]
  },
  {
   "cell_type": "code",
   "execution_count": 112,
   "metadata": {},
   "outputs": [],
   "source": [
    "prestatori=pd.merge(new2, new_lenders, on='lenders_y')[['loan_id', 'lenders_y', 'country_code', 'single_fund']]"
   ]
  },
  {
   "cell_type": "code",
   "execution_count": 113,
   "metadata": {},
   "outputs": [],
   "source": [
    "somma_prestati=prestatori.groupby('country_code')[['single_fund']].sum()"
   ]
  },
  {
   "cell_type": "code",
   "execution_count": 114,
   "metadata": {},
   "outputs": [],
   "source": [
    "somma_ricevuti=l.groupby('country_code')[['funded_amount']].sum()"
   ]
  },
  {
   "cell_type": "code",
   "execution_count": 115,
   "metadata": {},
   "outputs": [],
   "source": [
    "entrambi=pd.merge(somma_prestati, somma_ricevuti, on = 'country_code', how='left')"
   ]
  },
  {
   "cell_type": "code",
   "execution_count": 116,
   "metadata": {},
   "outputs": [],
   "source": [
    "prest=[]\n",
    "for i in range(0, len(entrambi)):\n",
    "    if pd.isna(entrambi.iloc[i]['funded_amount'])==True:\n",
    "        prest.append(0)\n",
    "    else:\n",
    "        prest.append(entrambi.iloc[i]['funded_amount'])\n",
    "entrambi['funded_amount']=prest       "
   ]
  },
  {
   "cell_type": "code",
   "execution_count": 117,
   "metadata": {},
   "outputs": [],
   "source": [
    "entrambi['differenza']=entrambi['single_fund']-entrambi['funded_amount']"
   ]
  },
  {
   "cell_type": "code",
   "execution_count": 118,
   "metadata": {},
   "outputs": [
    {
     "data": {
      "text/html": [
       "<div>\n",
       "<style scoped>\n",
       "    .dataframe tbody tr th:only-of-type {\n",
       "        vertical-align: middle;\n",
       "    }\n",
       "\n",
       "    .dataframe tbody tr th {\n",
       "        vertical-align: top;\n",
       "    }\n",
       "\n",
       "    .dataframe thead th {\n",
       "        text-align: right;\n",
       "    }\n",
       "</style>\n",
       "<table border=\"1\" class=\"dataframe\">\n",
       "  <thead>\n",
       "    <tr style=\"text-align: right;\">\n",
       "      <th></th>\n",
       "      <th>single_fund</th>\n",
       "      <th>funded_amount</th>\n",
       "      <th>differenza</th>\n",
       "    </tr>\n",
       "    <tr>\n",
       "      <th>country_code</th>\n",
       "      <th></th>\n",
       "      <th></th>\n",
       "      <th></th>\n",
       "    </tr>\n",
       "  </thead>\n",
       "  <tbody>\n",
       "    <tr>\n",
       "      <th>AD</th>\n",
       "      <td>189.617940</td>\n",
       "      <td>0.0</td>\n",
       "      <td>1.896179e+02</td>\n",
       "    </tr>\n",
       "    <tr>\n",
       "      <th>AE</th>\n",
       "      <td>102682.653115</td>\n",
       "      <td>0.0</td>\n",
       "      <td>1.026827e+05</td>\n",
       "    </tr>\n",
       "    <tr>\n",
       "      <th>AF</th>\n",
       "      <td>5973.946964</td>\n",
       "      <td>1964650.0</td>\n",
       "      <td>-1.958676e+06</td>\n",
       "    </tr>\n",
       "    <tr>\n",
       "      <th>AL</th>\n",
       "      <td>1647.847903</td>\n",
       "      <td>3992475.0</td>\n",
       "      <td>-3.990827e+06</td>\n",
       "    </tr>\n",
       "    <tr>\n",
       "      <th>AM</th>\n",
       "      <td>827.215070</td>\n",
       "      <td>20284675.0</td>\n",
       "      <td>-2.028385e+07</td>\n",
       "    </tr>\n",
       "    <tr>\n",
       "      <th>AN</th>\n",
       "      <td>1348.349728</td>\n",
       "      <td>0.0</td>\n",
       "      <td>1.348350e+03</td>\n",
       "    </tr>\n",
       "    <tr>\n",
       "      <th>AO</th>\n",
       "      <td>1512.022744</td>\n",
       "      <td>0.0</td>\n",
       "      <td>1.512023e+03</td>\n",
       "    </tr>\n",
       "    <tr>\n",
       "      <th>AQ</th>\n",
       "      <td>2047.085994</td>\n",
       "      <td>0.0</td>\n",
       "      <td>2.047086e+03</td>\n",
       "    </tr>\n",
       "    <tr>\n",
       "      <th>AR</th>\n",
       "      <td>53240.394093</td>\n",
       "      <td>0.0</td>\n",
       "      <td>5.324039e+04</td>\n",
       "    </tr>\n",
       "    <tr>\n",
       "      <th>AS</th>\n",
       "      <td>538.435984</td>\n",
       "      <td>0.0</td>\n",
       "      <td>5.384360e+02</td>\n",
       "    </tr>\n",
       "  </tbody>\n",
       "</table>\n",
       "</div>"
      ],
      "text/plain": [
       "                single_fund  funded_amount    differenza\n",
       "country_code                                            \n",
       "AD               189.617940            0.0  1.896179e+02\n",
       "AE            102682.653115            0.0  1.026827e+05\n",
       "AF              5973.946964      1964650.0 -1.958676e+06\n",
       "AL              1647.847903      3992475.0 -3.990827e+06\n",
       "AM               827.215070     20284675.0 -2.028385e+07\n",
       "AN              1348.349728            0.0  1.348350e+03\n",
       "AO              1512.022744            0.0  1.512023e+03\n",
       "AQ              2047.085994            0.0  2.047086e+03\n",
       "AR             53240.394093            0.0  5.324039e+04\n",
       "AS               538.435984            0.0  5.384360e+02"
      ]
     },
     "execution_count": 118,
     "metadata": {},
     "output_type": "execute_result"
    }
   ],
   "source": [
    "entrambi.head(10)"
   ]
  },
  {
   "cell_type": "code",
   "execution_count": 119,
   "metadata": {},
   "outputs": [
    {
     "data": {
      "text/html": [
       "<div>\n",
       "<style scoped>\n",
       "    .dataframe tbody tr th:only-of-type {\n",
       "        vertical-align: middle;\n",
       "    }\n",
       "\n",
       "    .dataframe tbody tr th {\n",
       "        vertical-align: top;\n",
       "    }\n",
       "\n",
       "    .dataframe thead th {\n",
       "        text-align: right;\n",
       "    }\n",
       "</style>\n",
       "<table border=\"1\" class=\"dataframe\">\n",
       "  <thead>\n",
       "    <tr style=\"text-align: right;\">\n",
       "      <th></th>\n",
       "      <th>single_fund</th>\n",
       "      <th>funded_amount</th>\n",
       "      <th>differenza</th>\n",
       "    </tr>\n",
       "    <tr>\n",
       "      <th>country_code</th>\n",
       "      <th></th>\n",
       "      <th></th>\n",
       "      <th></th>\n",
       "    </tr>\n",
       "  </thead>\n",
       "  <tbody>\n",
       "    <tr>\n",
       "      <th>VN</th>\n",
       "      <td>18925.859258</td>\n",
       "      <td>23463825.0</td>\n",
       "      <td>-2.344490e+07</td>\n",
       "    </tr>\n",
       "    <tr>\n",
       "      <th>VU</th>\n",
       "      <td>15125.652111</td>\n",
       "      <td>9250.0</td>\n",
       "      <td>5.875652e+03</td>\n",
       "    </tr>\n",
       "    <tr>\n",
       "      <th>WF</th>\n",
       "      <td>168.847752</td>\n",
       "      <td>0.0</td>\n",
       "      <td>1.688478e+02</td>\n",
       "    </tr>\n",
       "    <tr>\n",
       "      <th>WS</th>\n",
       "      <td>130.892857</td>\n",
       "      <td>11508250.0</td>\n",
       "      <td>-1.150812e+07</td>\n",
       "    </tr>\n",
       "    <tr>\n",
       "      <th>XK</th>\n",
       "      <td>795.176981</td>\n",
       "      <td>2862325.0</td>\n",
       "      <td>-2.861530e+06</td>\n",
       "    </tr>\n",
       "    <tr>\n",
       "      <th>YE</th>\n",
       "      <td>8118.369053</td>\n",
       "      <td>3340025.0</td>\n",
       "      <td>-3.331907e+06</td>\n",
       "    </tr>\n",
       "    <tr>\n",
       "      <th>YT</th>\n",
       "      <td>52.118848</td>\n",
       "      <td>0.0</td>\n",
       "      <td>5.211885e+01</td>\n",
       "    </tr>\n",
       "    <tr>\n",
       "      <th>ZA</th>\n",
       "      <td>28340.096963</td>\n",
       "      <td>1006525.0</td>\n",
       "      <td>-9.781849e+05</td>\n",
       "    </tr>\n",
       "    <tr>\n",
       "      <th>ZM</th>\n",
       "      <td>828.390744</td>\n",
       "      <td>1913250.0</td>\n",
       "      <td>-1.912422e+06</td>\n",
       "    </tr>\n",
       "    <tr>\n",
       "      <th>ZW</th>\n",
       "      <td>363.823559</td>\n",
       "      <td>5818550.0</td>\n",
       "      <td>-5.818186e+06</td>\n",
       "    </tr>\n",
       "  </tbody>\n",
       "</table>\n",
       "</div>"
      ],
      "text/plain": [
       "               single_fund  funded_amount    differenza\n",
       "country_code                                           \n",
       "VN            18925.859258     23463825.0 -2.344490e+07\n",
       "VU            15125.652111         9250.0  5.875652e+03\n",
       "WF              168.847752            0.0  1.688478e+02\n",
       "WS              130.892857     11508250.0 -1.150812e+07\n",
       "XK              795.176981      2862325.0 -2.861530e+06\n",
       "YE             8118.369053      3340025.0 -3.331907e+06\n",
       "YT               52.118848            0.0  5.211885e+01\n",
       "ZA            28340.096963      1006525.0 -9.781849e+05\n",
       "ZM              828.390744      1913250.0 -1.912422e+06\n",
       "ZW              363.823559      5818550.0 -5.818186e+06"
      ]
     },
     "execution_count": 119,
     "metadata": {},
     "output_type": "execute_result"
    }
   ],
   "source": [
    "entrambi.tail(10)"
   ]
  },
  {
   "cell_type": "markdown",
   "metadata": {},
   "source": [
    "Esercizio 10.\n",
    "\n",
    "Which country has the highest ratio between the difference computed at the previous point and the population?\n"
   ]
  },
  {
   "cell_type": "code",
   "execution_count": 120,
   "metadata": {},
   "outputs": [],
   "source": [
    "country_stats=pd.read_csv('C:\\\\Users\\\\symo9\\\\Desktop\\\\FoCS\\\\progetto\\\\country_stats.csv')"
   ]
  },
  {
   "cell_type": "code",
   "execution_count": 121,
   "metadata": {},
   "outputs": [],
   "source": [
    "iniziale=pd.merge(country_stats, entrambi, on='country_code')[['country_code', 'population_below_poverty_line', 'population', 'differenza']]"
   ]
  },
  {
   "cell_type": "code",
   "execution_count": 122,
   "metadata": {},
   "outputs": [],
   "source": [
    "primo_rapporto=iniziale\n",
    "primo_rapporto['first_ratio']=primo_rapporto['differenza']/primo_rapporto['population']"
   ]
  },
  {
   "cell_type": "code",
   "execution_count": 123,
   "metadata": {},
   "outputs": [],
   "source": [
    "fine_primo=primo_rapporto[['country_code', 'first_ratio']]"
   ]
  },
  {
   "cell_type": "code",
   "execution_count": 124,
   "metadata": {},
   "outputs": [],
   "source": [
    "vincitore=fine_primo.iloc[fine_primo['first_ratio'].idxmax()]"
   ]
  },
  {
   "cell_type": "code",
   "execution_count": 125,
   "metadata": {},
   "outputs": [
    {
     "data": {
      "text/plain": [
       "country_code          LU\n",
       "first_ratio     0.227434\n",
       "Name: 152, dtype: object"
      ]
     },
     "execution_count": 125,
     "metadata": {},
     "output_type": "execute_result"
    }
   ],
   "source": [
    "vincitore"
   ]
  },
  {
   "cell_type": "markdown",
   "metadata": {},
   "source": [
    "Esercizio 11.\n",
    "\n",
    "Which country has the highest ratio between the difference computed at point 9 and the population that is not below the poverty line?\n"
   ]
  },
  {
   "cell_type": "code",
   "execution_count": 126,
   "metadata": {},
   "outputs": [],
   "source": [
    "secondo_rapporto=iniziale\n",
    "secondo_rapporto['second_ratio']=secondo_rapporto['differenza']/(100-secondo_rapporto['population_below_poverty_line'])"
   ]
  },
  {
   "cell_type": "code",
   "execution_count": 127,
   "metadata": {},
   "outputs": [],
   "source": [
    "fine_secondo=secondo_rapporto[['country_code', 'second_ratio']]"
   ]
  },
  {
   "cell_type": "code",
   "execution_count": 128,
   "metadata": {},
   "outputs": [],
   "source": [
    "vincitore2=fine_secondo.iloc[fine_secondo['second_ratio'].idxmax()]"
   ]
  },
  {
   "cell_type": "code",
   "execution_count": 129,
   "metadata": {},
   "outputs": [
    {
     "data": {
      "text/plain": [
       "country_code         US\n",
       "second_ratio    74710.8\n",
       "Name: 6, dtype: object"
      ]
     },
     "execution_count": 129,
     "metadata": {},
     "output_type": "execute_result"
    }
   ],
   "source": [
    "vincitore2"
   ]
  },
  {
   "cell_type": "markdown",
   "metadata": {},
   "source": [
    "Esercizio 12.\n",
    "\n",
    "For each year, compute the total amount of loans. Each loan that has planned expiration time and disburse time in different years must have its amount distributed proportionally to the number of days in each year. For example, a loan with disburse time December 1st, 2016, planned expiration time January 30th 2018, and amount 5000USD has an amount of 5000USD * 31 / (31+365+30) = 363.85 for 2016, 5000USD * 365 / (31+365+30) = 4284.04 for 2017, and 5000USD * 30 / (31+365+30) = 352.11 for 2018.\n"
   ]
  },
  {
   "cell_type": "code",
   "execution_count": 132,
   "metadata": {},
   "outputs": [],
   "source": [
    "l['year2']=pd.to_datetime(l['planned_expiration_time']).dt.year"
   ]
  },
  {
   "cell_type": "code",
   "execution_count": 133,
   "metadata": {},
   "outputs": [],
   "source": [
    "l1=l[(l['year2']-l['year'])>=1]\n",
    "l1=l1.reset_index()\n",
    "l2=l[(l['year2']-l['year'])==0]\n",
    "l2=l2.reset_index()\n",
    "ammonti=[x for x in l2['loan_amount']]\n",
    "years=[x for x in l2['year']]\n",
    "c=pd.DataFrame({'loan':ammonti, 'anni':years}) "
   ]
  },
  {
   "cell_type": "code",
   "execution_count": 134,
   "metadata": {},
   "outputs": [],
   "source": [
    "lista_finale_pesi=[]\n",
    "lista_finale_anni=[]"
   ]
  },
  {
   "cell_type": "code",
   "execution_count": 135,
   "metadata": {},
   "outputs": [],
   "source": [
    "for i in range(0,len(l1)):\n",
    "    diff=l1['year2'][i]-l1['year'][i]\n",
    "    k=0\n",
    "    lista2=[]\n",
    "    for k in range(0,int(diff)+1):\n",
    "        lista2.append(l1['year'][i]+k)\n",
    "        if k==int(diff) and int(diff)>1:\n",
    "            lista1=[x for x in range(0,int(diff)+1)]\n",
    "            for j in range(1, k):\n",
    "                lista1[j]=365\n",
    "        else:\n",
    "            lista1=[x for x in range(0,2)]\n",
    "    lista1[0]=365-(pd.to_datetime(l1['disburse_time'][i])).dayofyear\n",
    "    lista1[-1]=(pd.to_datetime(l1['planned_expiration_time'][i])).dayofyear\n",
    "    pesi=[x*l1['loan_amount'][i]/sum(lista1) for x in lista1]\n",
    "    for h in range(0,len(pesi)):\n",
    "        lista_finale_pesi.append(pesi[h])\n",
    "        lista_finale_anni.append(lista2[h])    "
   ]
  },
  {
   "cell_type": "code",
   "execution_count": 136,
   "metadata": {},
   "outputs": [],
   "source": [
    "b=pd.DataFrame({'loan':lista_finale_pesi, 'anni':lista_finale_anni})"
   ]
  },
  {
   "cell_type": "code",
   "execution_count": 137,
   "metadata": {},
   "outputs": [],
   "source": [
    "finale=c.append(b)"
   ]
  },
  {
   "cell_type": "code",
   "execution_count": 138,
   "metadata": {
    "scrolled": true
   },
   "outputs": [
    {
     "data": {
      "text/html": [
       "<div>\n",
       "<style scoped>\n",
       "    .dataframe tbody tr th:only-of-type {\n",
       "        vertical-align: middle;\n",
       "    }\n",
       "\n",
       "    .dataframe tbody tr th {\n",
       "        vertical-align: top;\n",
       "    }\n",
       "\n",
       "    .dataframe thead th {\n",
       "        text-align: right;\n",
       "    }\n",
       "</style>\n",
       "<table border=\"1\" class=\"dataframe\">\n",
       "  <thead>\n",
       "    <tr style=\"text-align: right;\">\n",
       "      <th></th>\n",
       "      <th>loan</th>\n",
       "    </tr>\n",
       "    <tr>\n",
       "      <th>anni</th>\n",
       "      <th></th>\n",
       "    </tr>\n",
       "  </thead>\n",
       "  <tbody>\n",
       "    <tr>\n",
       "      <th>2011.0</th>\n",
       "      <td>6.299119e+05</td>\n",
       "    </tr>\n",
       "    <tr>\n",
       "      <th>2012.0</th>\n",
       "      <td>1.131230e+08</td>\n",
       "    </tr>\n",
       "    <tr>\n",
       "      <th>2013.0</th>\n",
       "      <td>1.250890e+08</td>\n",
       "    </tr>\n",
       "    <tr>\n",
       "      <th>2014.0</th>\n",
       "      <td>1.531511e+08</td>\n",
       "    </tr>\n",
       "    <tr>\n",
       "      <th>2015.0</th>\n",
       "      <td>1.597600e+08</td>\n",
       "    </tr>\n",
       "    <tr>\n",
       "      <th>2016.0</th>\n",
       "      <td>1.587487e+08</td>\n",
       "    </tr>\n",
       "    <tr>\n",
       "      <th>2017.0</th>\n",
       "      <td>1.721008e+08</td>\n",
       "    </tr>\n",
       "    <tr>\n",
       "      <th>2018.0</th>\n",
       "      <td>5.705071e+06</td>\n",
       "    </tr>\n",
       "  </tbody>\n",
       "</table>\n",
       "</div>"
      ],
      "text/plain": [
       "                loan\n",
       "anni                \n",
       "2011.0  6.299119e+05\n",
       "2012.0  1.131230e+08\n",
       "2013.0  1.250890e+08\n",
       "2014.0  1.531511e+08\n",
       "2015.0  1.597600e+08\n",
       "2016.0  1.587487e+08\n",
       "2017.0  1.721008e+08\n",
       "2018.0  5.705071e+06"
      ]
     },
     "execution_count": 138,
     "metadata": {},
     "output_type": "execute_result"
    }
   ],
   "source": [
    "finale.groupby('anni')[['loan']].sum()"
   ]
  },
  {
   "cell_type": "code",
   "execution_count": null,
   "metadata": {},
   "outputs": [],
   "source": []
  }
 ],
 "metadata": {
  "kernelspec": {
   "display_name": "Python 3",
   "language": "python",
   "name": "python3"
  },
  "language_info": {
   "codemirror_mode": {
    "name": "ipython",
    "version": 3
   },
   "file_extension": ".py",
   "mimetype": "text/x-python",
   "name": "python",
   "nbconvert_exporter": "python",
   "pygments_lexer": "ipython3",
   "version": "3.7.3"
  }
 },
 "nbformat": 4,
 "nbformat_minor": 2
}
